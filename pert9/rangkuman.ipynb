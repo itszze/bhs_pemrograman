{
 "cells": [
  {
   "cell_type": "markdown",
   "metadata": {},
   "source": [
    "RINGKASAN \n"
   ]
  },
  {
   "cell_type": "markdown",
   "metadata": {},
   "source": [
    "1. DEFINISI"
   ]
  },
  {
   "cell_type": "markdown",
   "metadata": {},
   "source": [
    "Array pada bahasa phyton merupakan struktur yang ditujukan untuk menyimpan dan mengatur set data. Struktur data membicarakan tentang penyimpanan, mengatur, pengelompokkan, dan mempresentasikan."
   ]
  },
  {
   "cell_type": "markdown",
   "metadata": {},
   "source": [
    "2. SET"
   ]
  },
  {
   "cell_type": "markdown",
   "metadata": {},
   "source": [
    "Set di python adalah tipe data yang bisa menyimpan berbagai value dalam satu variable dengan kondisi :\n",
    "\n",
    "- Value yang di simpan harus unik (tidak Duplikat)\n",
    "\n",
    "- Value yang sudah masuk tidak dapat diubah lagi\n",
    "\n",
    "- Set itu tidak berurut yang dimana set tidak bisa diakses melalui index\n",
    "\n",
    "contoh dari set adalah sebagai berikut :\n",
    "\n",
    "set menggunakan kurawal :"
   ]
  },
  {
   "cell_type": "markdown",
   "metadata": {},
   "source": [
    "# use curly braces\n",
    "student_set = { 'Huda', 'Lendis', 'Wahid', 'Basith'} \n",
    "print(student_set)\n",
    "\n",
    "# convert list into set\n",
    "fruit_set = set(['mango', 'Apple']) \n",
    "print(set_fruit)\n",
    "\n",
    "# sets with different data types\n",
    "set_mix = {'man', 'animal', 5, True, ('A', 'B')}\n",
    "print(set_mix)"
   ]
  },
  {
   "cell_type": "markdown",
   "metadata": {},
   "source": [
    "1. student_set: Ini adalah sebuah set yang berisi nama-nama siswa. Dicetak menggunakan fungsi print.\n",
    "\n",
    "2. fruit_set: Ini adalah set yang dihasilkan dari konversi sebuah list yang berisi nama-nama buah. Namun, ada kesalahan penamaan variabel (fruit_set seharusnya diganti menjadi set_fruit). Set ini juga dicetak menggunakan fungsi print.\n",
    "\n",
    "3. set_mix: Ini adalah set yang berisi berbagai jenis data, termasuk string, integer, boolean, dan tuple. Set ini juga dicetak menggunakan fungsi print.\n",
    "\n",
    "Setelah menjalankan kode ini, hasilnya akan mencetak setiap variabel yang didefinisikan."
   ]
  },
  {
   "cell_type": "markdown",
   "metadata": {},
   "source": [
    "A. UNORDERED (SET)"
   ]
  },
  {
   "cell_type": "markdown",
   "metadata": {},
   "source": [
    "Data set itu tidak terurut, berarti kita tidak bisa menggunakan index untuk mengakses value di set.\n",
    "\n",
    "contohnya :"
   ]
  },
  {
   "cell_type": "markdown",
   "metadata": {},
   "source": [
    "python my_set ={'a'} \n",
    "print(my_set[0])"
   ]
  },
  {
   "cell_type": "markdown",
   "metadata": {},
   "source": [
    "Akan muncul error seperti berikut :\n",
    "\n",
    "Traceback (most recent call last): File line 2, in print(my_set[0]) TypeError: 'set' object is not subscriptable"
   ]
  },
  {
   "cell_type": "markdown",
   "metadata": {},
   "source": [
    "No Duplicate Values (set)\n",
    "\n",
    "Set di python tidak dapat menerima value duplikat, jika kita memasukkan value yang sudah dimasukkan maka akan muncul haynya sekali\n",
    "\n",
    "contoh :\n",
    "\n",
    "python nama = {\"iqbal\", \"iqbal\", \"bima\"} print(nama)\n",
    "\n",
    "Maka outputnya akan menjadi :\n",
    "\n",
    "{'bima', 'iqbal'}\n",
    "\n",
    "Menambahkan Set (Set)\n",
    "\n",
    "Untuk menambahkan elemen ke dalam set, kita dapat menggunakan method add() atau update(). Berikut adalah contohnya dalam bahasa Indonesia:\n",
    "\n",
    "python my_set = {'a', 'b', 'c'} my_set.add('d') print(my_set) # Output: {'a', 'b', 'c', 'd'}\n",
    "\n",
    "my_set.update(['e', 'f']) print(my_set) # Output: {'a', 'b', 'c', 'd', 'e', 'f'}\n",
    "\n",
    "Menghapus atau Menghapus Elemen Set (Set)\n",
    "\n",
    "Untuk menghapus elemen dari set, kita dapat menggunakan method remove(), discard(), atau pop(). Berikut adalah contohnya dalam bahasa Indonesia:\n",
    "\n",
    "python my_set = {'a', 'b', 'c', 'd', 'e', 'f'} my_set.remove('d') print(my_set) # Output: {'a', 'b', 'c', 'e', 'f'}\n",
    "\n",
    "my_set.discard('e') print(my_set) # Output: {'a', 'b', 'c', 'f'}\n",
    "\n",
    "removed_element = my_set.pop() print(removed_element) # Output: 'a' print(my_set) # Output: {'b', 'c', 'f'}\n",
    "\n",
    "Function (Sets)\n",
    "\n",
    "add(element): Menambahkan elemen baru ke dalam set.\n",
    "remove(element): Menghapus elemen tertentu dari set.\n",
    "clear(): Menghapus semua elemen dari set.\n",
    "size(): Mengembalikan jumlah elemen dalam set.\n",
    "contains(element): Memeriksa apakah set mengandung elemen tertentu.\n",
    "union(set): Menggabungkan dua set menjadi satu set baru yang berisi semua elemen dari kedua set.\n",
    "intersection(set): Mengembalikan set yang berisi elemen-elemen yang ada di kedua set.\n",
    "difference(set): Mengembalikan set yang berisi elemen-elemen yang ada di set pertama tetapi tidak ada di set kedua.\n",
    "subset(set): Memeriksa apakah set merupakan subset dari set lain.\n",
    "isEmpty(): Memeriksa apakah set kosong.\n",
    "toArray(): Mengubah set menjadi array.\n",
    "forEach(callback): Menjalankan fungsi callback untuk setiap elemen dalam set.\n",
    "map(callback): Mengembalikan set baru dengan hasil pemanggilan fungsi callback pada setiap elemen.\n",
    "filter(callback): Mengembalikan set baru dengan elemen-elemen yang memenuhi kondisi yang ditentukan oleh fungsi callback.\n",
    "reduce(callback, initialValue): Mengurangi set menjadi satu nilai dengan menggunakan fungsi callback.\n",
    "some(callback): Memeriksa apakah set memiliki setidaknya satu elemen yang memenuhi kondisi yang ditentukan oleh fungsi callback.\n",
    "every(callback): Memeriksa apakah semua elemen dalam set memenuhi kondisi yang ditentukan oleh fungsi callback.\n",
    "clone(): Mengembalikan salinan dari set.\n",
    "Dictionary\n",
    "\n",
    "Dictionary adalah struktur data yang digunakan untuk menyimpan pasangan key-value. Key adalah nilai yang unik dan digunakan untuk mengakses value yang terkait. Berikut adalah tiga properti penting dari dictionary:\n",
    "\n",
    "Unordered: Elemen-elemen dalam dictionary tidak memiliki urutan tertentu. Mereka disimpan dan diakses berdasarkan key-nya.\n",
    "\n",
    "Mutable: Dictionary dapat diubah setelah dibuat. Kita dapat menambahkan, mengubah, atau menghapus elemen-elemen di dalamnya.\n",
    "\n",
    "Key-Value Pairs: Setiap elemen dalam dictionary terdiri dari pasangan key dan value. Key digunakan untuk mengakses value yang terkait.\n",
    "\n",
    "Berikut adalah contoh cara membuat dictionary dan mengakses elemennya dalam Python:\n",
    "\n",
    "python\n",
    "\n",
    "Membuat dictionary\n",
    "\n",
    "my_dict = {\"name\": \"John\", \"age\": 25, \"city\": \"New York\"}\n",
    "\n",
    "Mengakses elemen berdasarkan key\n",
    "\n",
    "print(my_dict[\"name\"]) # Output: John print(my_dict[\"age\"]) # Output: 25 print(my_dict[\"city\"]) # Output: New York\n",
    "\n",
    "Untuk menambahkan atau mengubah elemen dalam dictionary, kita dapat menggunakan operator assignment:\n",
    "\n",
    "python\n",
    "\n",
    "Menambahkan atau mengubah elemen dalam dictionary\n",
    "\n",
    "my_dict[\"occupation\"] = \"Engineer\" # Menambahkan elemen baru my_dict[\"age\"] = 26 # Mengubah nilai elemen yang sudah ada\n",
    "\n",
    "print(my_dict)\n",
    "\n",
    "Output: {\"name\": \"John\", \"age\": 26, \"city\": \"New York\", \"occupation\": \"Engineer\"}\n",
    "\n",
    "Untuk menghapus elemen dalam dictionary, kita dapat menggunakan keyword del:\n",
    "\n",
    "python\n",
    "\n",
    "Menghapus elemen dalam dictionary\n",
    "\n",
    "del my_dict[\"city\"]\n",
    "\n",
    "print(my_dict)\n",
    "\n",
    "Output: {\"name\": \"John\", \"age\": 26, \"occupation\": \"Engineer\"}\n",
    "\n",
    "Operator keanggotaan (in dan not in) dapat digunakan untuk memeriksa apakah sebuah key ada dalam dictionary:\n",
    "\n",
    "python\n",
    "\n",
    "Memeriksa keanggotaan key dalam dictionary\n",
    "\n",
    "print(\"name\" in my_dict) # Output: True print(\"city\" not in my_dict) # Output: True\n",
    "\n",
    "Berikut adalah beberapa fungsi bawaan yang dapat digunakan dengan dictionary:\n",
    "\n",
    "keys(): Mengembalikan daftar semua key dalam dictionary.\n",
    "values(): Mengembalikan daftar semua value dalam dictionary.\n",
    "items(): Mengembalikan daftar semua pasangan key-value dalam dictionary.\n",
    "get(key): Mengembalikan value yang terkait dengan key yang diberikan. Jika key tidak ada, mengembalikan None (atau nilai default yang ditentukan).\n",
    "pop(key): Menghapus elemen dengan key yang diberikan dan mengembalikan valuenya.\n",
    "clear(): Menghapus semua elemen dalam dictionary."
   ]
  }
 ],
 "metadata": {
  "kernelspec": {
   "display_name": "Python 3",
   "language": "python",
   "name": "python3"
  },
  "language_info": {
   "codemirror_mode": {
    "name": "ipython",
    "version": 3
   },
   "file_extension": ".py",
   "mimetype": "text/x-python",
   "name": "python",
   "nbconvert_exporter": "python",
   "pygments_lexer": "ipython3",
   "version": "3.10.12"
  }
 },
 "nbformat": 4,
 "nbformat_minor": 2
}
