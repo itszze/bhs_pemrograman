{
 "cells": [
  {
   "cell_type": "markdown",
   "metadata": {},
   "source": [
    "Jelaskan secara singkat apa itu paradigma dalam bahasa pemrograman?"
   ]
  },
  {
   "cell_type": "markdown",
   "metadata": {},
   "source": [
    "jawaban :\n",
    "\n",
    "Paradigma pemrograman adalah suatu metode, strategi atau teknik penulisan program dalam bahasa pemrograman tertentu untuk mengatasi masalah"
   ]
  }
 ],
 "metadata": {
  "language_info": {
   "name": "python"
  }
 },
 "nbformat": 4,
 "nbformat_minor": 2
}
