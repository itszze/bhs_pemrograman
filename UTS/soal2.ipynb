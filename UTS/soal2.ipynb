{
 "cells": [
  {
   "cell_type": "markdown",
   "metadata": {},
   "source": [
    "Jelaskan apa yang dimaksud dengan dengan model data, operator, seleksi dan fungsi?"
   ]
  },
  {
   "cell_type": "markdown",
   "metadata": {},
   "source": [
    "Jawaban :\n",
    "\n",
    "-Model data adalah representasi struktur dan hubungan antara data yang ada dalam suatu sistem atau aplikasi.\n",
    "\n",
    "-Operator adalah simbol batau fungsi yang digunakan untuk melakukan operasi data.\n",
    "\n",
    "-Seleksi adalah proses pemilihan tindakan berdasarkan kondisi tertentu.\n",
    "\n",
    "-Fungsi adalah blok kode yang dirancang untuk melakukan tugas tertentu dan dapat dipanggil oleh program. "
   ]
  }
 ],
 "metadata": {
  "language_info": {
   "name": "python"
  }
 },
 "nbformat": 4,
 "nbformat_minor": 2
}
