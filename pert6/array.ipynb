{
 "cells": [
  {
   "cell_type": "markdown",
   "metadata": {},
   "source": [
    "Apa itu Array ?"
   ]
  },
  {
   "cell_type": "markdown",
   "metadata": {},
   "source": [
    "Apa itu Array ?\n",
    "Array adalah struktur data yang digunakan untuk menyimpan kumpulan elemen data dengan tipe yang sama dalam satu variabel. Ini memungkinkan kita untuk mengelompokkan data terkait bersama-sama dan mengaksesnya menggunakan indeks numerik.\n",
    "Di dalam Python, struktur data yang mirip dengan array adalah daftar (list). Namun, secara umum, array juga dapat merujuk pada struktur data serupa di bahasa pemrograman lainnya yang memungkinkan pengindeksan elemen-elemen data berdasarkan posisi numerik mereka dalam urutan."
   ]
  },
  {
   "cell_type": "code",
   "execution_count": 1,
   "metadata": {},
   "outputs": [
    {
     "name": "stdout",
     "output_type": "stream",
     "text": [
      "[1, 2, 3]\n",
      "1\n",
      "2\n",
      "3\n"
     ]
    }
   ],
   "source": [
    "# list input\n",
    "\n",
    "my_list = [1, 2, 3]\n",
    "\n",
    "print(my_list)\n",
    "print(my_list[0])\n",
    "print(my_list[1])\n",
    "print(my_list[2])"
   ]
  },
  {
   "cell_type": "code",
   "execution_count": 2,
   "metadata": {},
   "outputs": [
    {
     "name": "stdout",
     "output_type": "stream",
     "text": [
      "[]\n"
     ]
    }
   ],
   "source": [
    "# empty list\n",
    "\n",
    "my_list = []\n",
    "print(my_list)"
   ]
  },
  {
   "cell_type": "code",
   "execution_count": 3,
   "metadata": {},
   "outputs": [
    {
     "name": "stdout",
     "output_type": "stream",
     "text": [
      "[1, 'hello', 3.4]\n",
      "1\n",
      "hello\n",
      "3.4\n"
     ]
    }
   ],
   "source": [
    "# list mixed type data\n",
    "\n",
    "my_list = [1, \"hello\", 3.4]\n",
    "print(my_list)\n",
    "print(my_list[0])\n",
    "print(my_list[1])\n",
    "print(my_list[2])"
   ]
  },
  {
   "cell_type": "code",
   "execution_count": 4,
   "metadata": {},
   "outputs": [
    {
     "name": "stdout",
     "output_type": "stream",
     "text": [
      "['mouse', [1, 2, 3], ['a']]\n",
      "mouse\n",
      "1\n",
      "2\n",
      "3\n",
      "a\n"
     ]
    }
   ],
   "source": [
    "# nested list\n",
    "\n",
    "my_list = [\"mouse\", [1, 2, 3], ['a']]\n",
    "print(my_list)\n",
    "print(my_list[0])\n",
    "print(my_list[1][0])\n",
    "print(my_list[1][1])\n",
    "print(my_list[1][2])\n",
    "print(my_list[2][0])"
   ]
  }
 ],
 "metadata": {
  "kernelspec": {
   "display_name": "Python 3",
   "language": "python",
   "name": "python3"
  },
  "language_info": {
   "codemirror_mode": {
    "name": "ipython",
    "version": 3
   },
   "file_extension": ".py",
   "mimetype": "text/x-python",
   "name": "python",
   "nbconvert_exporter": "python",
   "pygments_lexer": "ipython3",
   "version": "3.10.12"
  }
 },
 "nbformat": 4,
 "nbformat_minor": 2
}
