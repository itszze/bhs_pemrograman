{
 "cells": [
  {
   "cell_type": "markdown",
   "metadata": {},
   "source": [
    "Soal :"
   ]
  },
  {
   "cell_type": "markdown",
   "metadata": {},
   "source": [
    "1. jelaskan menurut anda apa itu function and recursive di python, dan berikan contoh codingannya secara capture hasilnya"
   ]
  },
  {
   "cell_type": "code",
   "execution_count": null,
   "metadata": {},
   "outputs": [],
   "source": []
  },
  {
   "cell_type": "markdown",
   "metadata": {},
   "source": [
    "Jawaban:\n",
    "Function di Python\n",
    "Fungsi adalah blok kode yang dirancang untuk melakukan tugas tertentu. Fungsi bisa dipanggil kapan saja, dan biasanya dirancang untuk menerima input (parameter) dan mengembalikan output."
   ]
  },
  {
   "cell_type": "markdown",
   "metadata": {},
   "source": [
    "Contoh Fungsi Sederhana :"
   ]
  },
  {
   "cell_type": "code",
   "execution_count": 1,
   "metadata": {},
   "outputs": [
    {
     "name": "stdout",
     "output_type": "stream",
     "text": [
      "Halo, Budi!\n"
     ]
    }
   ],
   "source": [
    "def sapa_nama(nama):\n",
    "    return f\"Halo, {nama}!\"\n",
    "\n",
    "# Memanggil fungsi\n",
    "hasil = sapa_nama(\"Budi\")\n",
    "print(hasil)\n"
   ]
  },
  {
   "cell_type": "markdown",
   "metadata": {},
   "source": [
    "Contoh Fungsi Rekursif Faktorial :"
   ]
  },
  {
   "cell_type": "code",
   "execution_count": 2,
   "metadata": {},
   "outputs": [
    {
     "name": "stdout",
     "output_type": "stream",
     "text": [
      "120\n"
     ]
    }
   ],
   "source": [
    "def faktorial(n):\n",
    "    if n == 0:\n",
    "        return 1\n",
    "    else:\n",
    "        return n * faktorial(n-1)\n",
    "\n",
    "# Memanggil fungsi\n",
    "hasil = faktorial(5)\n",
    "print(hasil)\n"
   ]
  },
  {
   "cell_type": "markdown",
   "metadata": {},
   "source": [
    "2. jelaskan menurut anda apa itu function of exceptopn headling dan berikan contoh codingannya serta capture hasilnya"
   ]
  },
  {
   "cell_type": "markdown",
   "metadata": {},
   "source": [
    "Jawaban : Exception handling adalah mekanisme untuk menangani kesalahan atau pengecualian yang terjadi saat program berjalan. Dengan exception handling, kita dapat menangani kesalahan dengan cara yang lebih terkontrol, alih-alih membiarkan program berhenti secara tiba-tiba.\n",
    "\n",
    "Struktur Dasar Exception Handling\n",
    "\n",
    "Struktur dasar exception handling di Python menggunakan blok try, except, else, dan finally:\n",
    "\n",
    "- try: Blok kode yang berpotensi menimbulkan kesalahan.\n",
    "- except: Blok kode yang menangani kesalahan yang terjadi di blok try.\n",
    "- else: Blok kode yang dijalankan jika tidak ada kesalahan yang terjadi di blok try.\n",
    "- finally: Blok kode yang selalu dijalankan, baik ada kesalahan atau tidak."
   ]
  },
  {
   "cell_type": "markdown",
   "metadata": {},
   "source": [
    "Contoh Exception Handling :"
   ]
  },
  {
   "cell_type": "code",
   "execution_count": 3,
   "metadata": {},
   "outputs": [
    {
     "name": "stdout",
     "output_type": "stream",
     "text": [
      "Proses pembagian selesai.\n",
      "Hasil pembagian: 5.0\n",
      "Proses pembagian selesai.\n",
      "Kesalahan: Tidak bisa membagi dengan nol!\n"
     ]
    }
   ],
   "source": [
    "def bagi(a, b):\n",
    "    try:\n",
    "        hasil = a / b\n",
    "    except ZeroDivisionError:\n",
    "        return \"Kesalahan: Tidak bisa membagi dengan nol!\"\n",
    "    else:\n",
    "        return f\"Hasil pembagian: {hasil}\"\n",
    "    finally:\n",
    "        print(\"Proses pembagian selesai.\")\n",
    "\n",
    "# Memanggil fungsi dengan pembagian yang valid\n",
    "print(bagi(10, 2))\n",
    "\n",
    "# Memanggil fungsi dengan pembagian oleh nol\n",
    "print(bagi(10, 0))\n"
   ]
  },
  {
   "cell_type": "markdown",
   "metadata": {},
   "source": [
    "Penjelasan:\n",
    "\n",
    "- Blok try: Mencoba melakukan pembagian a / b.\n",
    "- Blok except: Menangani kesalahan ZeroDivisionError jika b adalah nol.\n",
    "- Blok else: Jika tidak ada kesalahan, mengembalikan hasil pembagian.\n",
    "- Blok finally: Selalu mencetak pesan \"Proses pembagian selesai.\", terlepas dari apakah terjadi kesalahan atau tidak."
   ]
  }
 ],
 "metadata": {
  "kernelspec": {
   "display_name": "Python 3",
   "language": "python",
   "name": "python3"
  },
  "language_info": {
   "codemirror_mode": {
    "name": "ipython",
    "version": 3
   },
   "file_extension": ".py",
   "mimetype": "text/x-python",
   "name": "python",
   "nbconvert_exporter": "python",
   "pygments_lexer": "ipython3",
   "version": "3.10.12"
  }
 },
 "nbformat": 4,
 "nbformat_minor": 2
}
